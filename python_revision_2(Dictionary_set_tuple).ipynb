{
 "cells": [
  {
   "cell_type": "markdown",
   "id": "bdd313d6-f2b8-48cd-9f8b-3a2bcf2ef59d",
   "metadata": {},
   "source": [
    "# Starting with the tuples \n",
    "- tuple is very similar to the list \n",
    "-creating the tuple\n",
    "- Accessing the tuple \n",
    "- Editing the tuple\n",
    "- Adding the elements in the tuple \n",
    "- Deleting the items from the tuple\n",
    "-SOme of the operations that can be performend in the tuple\n",
    "- functions in the tuple \n"
   ]
  },
  {
   "cell_type": "code",
   "execution_count": null,
   "id": "d690d30f-9e1d-486a-a564-7eb6edf0f51f",
   "metadata": {},
   "outputs": [],
   "source": [
    "# 1. Creating the tuple \n",
    " "
   ]
  },
  {
   "cell_type": "code",
   "execution_count": 1,
   "id": "f7603586-2900-4699-9084-f0b24b154ebd",
   "metadata": {},
   "outputs": [
    {
     "name": "stdout",
     "output_type": "stream",
     "text": [
      "()\n"
     ]
    }
   ],
   "source": [
    "# 1.1 To create a empty tuple \n",
    "T1=()\n",
    "print (T1)"
   ]
  },
  {
   "cell_type": "code",
   "execution_count": 2,
   "id": "657b0096-9b6a-4805-bbe1-a9bd2ac80f6c",
   "metadata": {},
   "outputs": [
    {
     "name": "stdout",
     "output_type": "stream",
     "text": [
      "(1, 2, 3, 4)\n"
     ]
    }
   ],
   "source": [
    "T2=(1,2,3,4) # creating the homogenous tuples \n",
    "print(T2)"
   ]
  },
  {
   "cell_type": "code",
   "execution_count": 3,
   "id": "c5607c02-3816-4534-94b5-a770ab3c48bf",
   "metadata": {},
   "outputs": [
    {
     "name": "stdout",
     "output_type": "stream",
     "text": [
      "(1, 2, 3, 'Hello')\n"
     ]
    }
   ],
   "source": [
    "# to create the hetrogenous tuple =>tuples containing the different datatype\n",
    "T3=(1,2,3,\"Hello\")\n",
    "print(T3)\n",
    "\n"
   ]
  },
  {
   "cell_type": "code",
   "execution_count": 5,
   "id": "98ca6d09-5c69-4483-9e10-ba79105785c0",
   "metadata": {},
   "outputs": [
    {
     "name": "stdout",
     "output_type": "stream",
     "text": [
      "(1, 2, 3, (4, 5, 6))\n"
     ]
    }
   ],
   "source": [
    "# Creating the 2D tuple \n",
    "T4=(1,2,3,(4,5,6))\n",
    "print(T4)"
   ]
  },
  {
   "cell_type": "code",
   "execution_count": 6,
   "id": "c61ee2c7-cbfa-4ecd-a5dd-e5d4842f2a10",
   "metadata": {},
   "outputs": [
    {
     "name": "stdout",
     "output_type": "stream",
     "text": [
      "<class 'int'>\n"
     ]
    }
   ],
   "source": [
    "# single item lai tuple banune tarika ali farak xa just incase yadi maile \n",
    "#single item ley tuple banuna kosis garye vanye\n",
    "T5=(1)\n",
    "print(type(T5)) # this is not the tuple if i check the type pf T5 because of the single item in the tuple"
   ]
  },
  {
   "cell_type": "code",
   "execution_count": 8,
   "id": "e5ceb217-b218-436f-9ab1-c08ad8abcf53",
   "metadata": {},
   "outputs": [
    {
     "name": "stdout",
     "output_type": "stream",
     "text": [
      "hello\n",
      "<class 'str'>\n"
     ]
    }
   ],
   "source": [
    "# another example of the  single tuple \n",
    "T6=(\"hello\")\n",
    "print(T6)\n",
    "print(type(T6)) # this is also not considered as the tuple so"
   ]
  },
  {
   "cell_type": "code",
   "execution_count": 9,
   "id": "9c7dcef4-043b-423b-a4ac-06055c60150c",
   "metadata": {},
   "outputs": [
    {
     "name": "stdout",
     "output_type": "stream",
     "text": [
      "<class 'tuple'>\n"
     ]
    }
   ],
   "source": [
    "# To make single element tuple we have to use the following syntax\n",
    "T7=(1,)\n",
    "print(type(T7)) # here the T7 is the tuple , if single element is present then after that element use comman to make the single element tuple "
   ]
  },
  {
   "cell_type": "code",
   "execution_count": 11,
   "id": "53e14cf0-a2e7-4e10-91bf-0ac6f6e3fa0b",
   "metadata": {},
   "outputs": [
    {
     "name": "stdout",
     "output_type": "stream",
     "text": [
      "<class 'tuple'>\n"
     ]
    }
   ],
   "source": [
    "T8=(\"Hello\",)\n",
    "print(type(T8))"
   ]
  },
  {
   "cell_type": "markdown",
   "id": "b8e1ca9e-8877-4e3a-a727-62961ad5ddad",
   "metadata": {},
   "source": [
    "# look the difference above for making the single element tuple "
   ]
  },
  {
   "cell_type": "code",
   "execution_count": 12,
   "id": "5a9d14eb-e0fd-4b0d-aebb-d69f75dd2ba8",
   "metadata": {},
   "outputs": [
    {
     "name": "stdout",
     "output_type": "stream",
     "text": [
      "3\n"
     ]
    }
   ],
   "source": [
    "# Accessing the element from the tuple\n",
    "T2=(1,3,5,7)\n",
    "print(T2[1]) # same as list for accessing  for both 1 D , 2 D, 3D"
   ]
  },
  {
   "cell_type": "code",
   "execution_count": 13,
   "id": "587c4109-f54c-496b-878a-ff19a681bb4b",
   "metadata": {},
   "outputs": [
    {
     "name": "stdout",
     "output_type": "stream",
     "text": [
      "3\n"
     ]
    }
   ],
   "source": [
    "# same the concept of the slicing and indexing as list in the case of the tuple \n",
    "print(T2[-3])"
   ]
  },
  {
   "cell_type": "code",
   "execution_count": 14,
   "id": "43fe6340-d327-4d91-a610-bb3f72a42508",
   "metadata": {},
   "outputs": [
    {
     "name": "stdout",
     "output_type": "stream",
     "text": [
      "1\n"
     ]
    }
   ],
   "source": [
    "print(T2[-4])\n"
   ]
  },
  {
   "cell_type": "markdown",
   "id": "126d4470-a236-4f64-966b-7b06372c94eb",
   "metadata": {},
   "source": [
    "# Everything is similar in the case of tuple and list  but there the main difference is in the part of edting of the tuple than the list "
   ]
  },
  {
   "cell_type": "markdown",
   "id": "1e9792b2-1928-498d-9859-490234bc7eb2",
   "metadata": {},
   "source": [
    "# we cannot edit the tuple after once it get created is one of the main difference of the tuple from the list "
   ]
  },
  {
   "cell_type": "code",
   "execution_count": 15,
   "id": "a31b3a25-5997-4fa9-83ae-baeb30c557d0",
   "metadata": {},
   "outputs": [
    {
     "ename": "TypeError",
     "evalue": "'tuple' object does not support item assignment",
     "output_type": "error",
     "traceback": [
      "\u001b[1;31m---------------------------------------------------------------------------\u001b[0m",
      "\u001b[1;31mTypeError\u001b[0m                                 Traceback (most recent call last)",
      "Cell \u001b[1;32mIn[15], line 3\u001b[0m\n\u001b[0;32m      1\u001b[0m \u001b[38;5;66;03m# Example\u001b[39;00m\n\u001b[0;32m      2\u001b[0m T2\u001b[38;5;241m=\u001b[39m(\u001b[38;5;241m1\u001b[39m,\u001b[38;5;241m2\u001b[39m,\u001b[38;5;241m3\u001b[39m,\u001b[38;5;241m4\u001b[39m)\n\u001b[1;32m----> 3\u001b[0m \u001b[43mT2\u001b[49m\u001b[43m[\u001b[49m\u001b[38;5;241;43m0\u001b[39;49m\u001b[43m]\u001b[49m\u001b[38;5;241m=\u001b[39m\u001b[38;5;241m100\u001b[39m\n",
      "\u001b[1;31mTypeError\u001b[0m: 'tuple' object does not support item assignment"
     ]
    }
   ],
   "source": [
    "# Example\n",
    "T2=(1,2,3,4)\n",
    "T2[0]=100 # we cannot edit the tuple element "
   ]
  },
  {
   "cell_type": "code",
   "execution_count": null,
   "id": "6159dbd7-4803-47b3-94a7-80a80395f4fc",
   "metadata": {},
   "outputs": [],
   "source": [
    "Tuples are immutable "
   ]
  },
  {
   "cell_type": "markdown",
   "id": "35a9896e-4755-4e7b-b0f6-b2d40606aeb8",
   "metadata": {},
   "source": [
    "# We cannot add the new element in the tuple once it get created another difference from list "
   ]
  },
  {
   "cell_type": "code",
   "execution_count": null,
   "id": "50f09a3e-6cbf-4cb5-813f-0fa06828f570",
   "metadata": {},
   "outputs": [],
   "source": [
    "# Deleting the items from the tuple\n",
    "- using del keyword we can delete the whole tuple but it is not possible individual elements from the tuple"
   ]
  },
  {
   "cell_type": "code",
   "execution_count": null,
   "id": "f548bcda-e15f-49ac-83a9-ec3923cf4e12",
   "metadata": {},
   "outputs": [],
   "source": [
    "# operation available in the tuples\n",
    "- Concatanation\n",
    "-muntiply\n",
    "-loop chalauna sakinxa\n",
    "for i in T2:\n",
    "    print(i)\n",
    "\n",
    "-Membership function\n",
    "for"
   ]
  },
  {
   "cell_type": "code",
   "execution_count": null,
   "id": "faf9b7ba-a160-4f96-b3bf-ff0171b7bce4",
   "metadata": {},
   "outputs": [],
   "source": [
    "# can use the different functions \n",
    "- len\n",
    "-max\n",
    "-min\n",
    "-sum\n",
    "-sorted\n",
    "\n"
   ]
  },
  {
   "cell_type": "markdown",
   "id": "475f4e4c-4c60-42ad-981d-611d8611abb9",
   "metadata": {},
   "source": [
    "# Tuples are read only datatype\n"
   ]
  },
  {
   "cell_type": "markdown",
   "id": "8f01dd00-413f-4ef8-86df-c51e0989f600",
   "metadata": {},
   "source": [
    "# NOw move into datatypes Sets\n",
    "-Rules in the sets\n",
    "1. sets donot allow duplicate\n",
    "2. set donot allow indexing/slicing\n",
    "3. Sets donto allow mutable datatype\n",
    "4. sets itself is the mutable datatype "
   ]
  },
  {
   "cell_type": "code",
   "execution_count": 17,
   "id": "f6a8e956-4ad9-402d-8f50-7f367027abd1",
   "metadata": {},
   "outputs": [
    {
     "name": "stdout",
     "output_type": "stream",
     "text": [
      "{}\n",
      "<class 'dict'>\n"
     ]
    }
   ],
   "source": [
    "# Creating a set \n",
    "S1={}\n",
    "print(S1) # yo chai empty set jasto dekhinxa but this is not empty set , empty set banauna alikati garo hunccha\n",
    "print(type(S1))  # see this is not a set this is dictionary "
   ]
  },
  {
   "cell_type": "code",
   "execution_count": 20,
   "id": "10aa04d1-1913-4815-85cf-33b4e6c2b959",
   "metadata": {},
   "outputs": [
    {
     "name": "stdout",
     "output_type": "stream",
     "text": [
      "set()\n",
      "<class 'set'>\n"
     ]
    }
   ],
   "source": [
    " # So if you want to make the empty you have to use the syntax like this\n",
    "S1=set() # this is a empty set that is  ;;;; variable=Set()\n",
    "print(S1)\n",
    "print(type(S1)) # see this is the empty set "
   ]
  },
  {
   "cell_type": "code",
   "execution_count": 22,
   "id": "3a89b592-1337-4048-9804-e782146f88b4",
   "metadata": {},
   "outputs": [
    {
     "name": "stdout",
     "output_type": "stream",
     "text": [
      "{1, 2, 4, 6}\n",
      "<class 'set'>\n"
     ]
    }
   ],
   "source": [
    "# Now creating the homigenous set jaha chai sabbai items ko datatype same hunccha \n",
    "s1={1,2,4,6}\n",
    "print(s1)\n",
    "print(type(s1))"
   ]
  },
  {
   "cell_type": "code",
   "execution_count": 24,
   "id": "d88349a7-9158-4fb5-ab62-5c3ea5cc0f60",
   "metadata": {},
   "outputs": [
    {
     "name": "stdout",
     "output_type": "stream",
     "text": [
      "{1, 3, 5, 6.5, 'Hello'}\n",
      "<class 'set'>\n"
     ]
    }
   ],
   "source": [
    "# there exist muntiple datatype in the set\n",
    "s2={'Hello',1,3,5,6.5} # hello last ma ayuno ko karan k ho vanye sets has no indexing \n",
    "print(s2)\n",
    "print(type(s2))"
   ]
  },
  {
   "cell_type": "code",
   "execution_count": 25,
   "id": "f2728f90-b4ea-4143-a304-9701eae4e752",
   "metadata": {},
   "outputs": [
    {
     "name": "stdout",
     "output_type": "stream",
     "text": [
      "{1.1, 3, 4, 5}\n",
      "<class 'set'>\n"
     ]
    }
   ],
   "source": [
    "# lets try the first rule of the set= doesnot allow duplicate\n",
    "s4={1.1,3,3,4,4,5,5,} # yasle chai automatically duplicate remove garxa\n",
    "print(s4)\n",
    "print(type(s4))\n"
   ]
  },
  {
   "cell_type": "code",
   "execution_count": 26,
   "id": "f7e1343f-c6e0-4ce6-8d74-53afe3793431",
   "metadata": {},
   "outputs": [
    {
     "ename": "TypeError",
     "evalue": "unhashable type: 'list'",
     "output_type": "error",
     "traceback": [
      "\u001b[1;31m---------------------------------------------------------------------------\u001b[0m",
      "\u001b[1;31mTypeError\u001b[0m                                 Traceback (most recent call last)",
      "Cell \u001b[1;32mIn[26], line 2\u001b[0m\n\u001b[0;32m      1\u001b[0m \u001b[38;5;66;03m# sets donot allow the mutable datatype\u001b[39;00m\n\u001b[1;32m----> 2\u001b[0m s5\u001b[38;5;241m=\u001b[39m{\u001b[38;5;241m1\u001b[39m,\u001b[38;5;241m3\u001b[39m,\u001b[38;5;241m4\u001b[39m,[\u001b[38;5;241m1\u001b[39m,\u001b[38;5;241m3\u001b[39m,\u001b[38;5;241m4\u001b[39m]}\n\u001b[0;32m      3\u001b[0m \u001b[38;5;28mprint\u001b[39m(s5)\n\u001b[0;32m      4\u001b[0m \u001b[38;5;28mprint\u001b[39m(\u001b[38;5;28mtype\u001b[39m(s5))\n",
      "\u001b[1;31mTypeError\u001b[0m: unhashable type: 'list'"
     ]
    }
   ],
   "source": [
    "# sets donot allow the mutable datatype\n",
    "s5={1,3,4,[1,3,4]} # list is mutable so error \n",
    "print(s5)\n",
    "print(type(s5))"
   ]
  },
  {
   "cell_type": "code",
   "execution_count": 28,
   "id": "c9255298-b9d5-4fc7-8514-10aa8344f77e",
   "metadata": {},
   "outputs": [
    {
     "name": "stdout",
     "output_type": "stream",
     "text": [
      "{1, 2, 4, (1, 2, 4)}\n",
      "<class 'set'>\n"
     ]
    }
   ],
   "source": [
    "s5={(1,2,4),1,2,4} # see tuple is not mutable so no error is shown\n",
    "print(s5)\n",
    "print(type(s5))"
   ]
  },
  {
   "cell_type": "markdown",
   "id": "8ff97422-8b1f-4d88-927a-1813a884cd96",
   "metadata": {},
   "source": [
    "# Sets have no indexing instead there is the concept of the hashing \n"
   ]
  },
  {
   "cell_type": "code",
   "execution_count": null,
   "id": "15ba43c6-1466-48a6-ac54-d66dd3fe7683",
   "metadata": {},
   "outputs": [],
   "source": [
    "# Accessing the items from the Set \n",
    "- you cannot access any elements from the list \n",
    "- so in set no indexing no slicing \n",
    "- Once cannot edit the sets "
   ]
  },
  {
   "cell_type": "code",
   "execution_count": null,
   "id": "ab065c54-41ee-4e72-ad5e-82ef1177123a",
   "metadata": {},
   "outputs": [],
   "source": [
    "# Adding the elements in the set \n",
    "- by using the add function\n"
   ]
  },
  {
   "cell_type": "code",
   "execution_count": 30,
   "id": "16fc0bc9-ec97-4178-9bef-c4db9c5153c7",
   "metadata": {},
   "outputs": [
    {
     "name": "stdout",
     "output_type": "stream",
     "text": [
      "{9, 2, 3, 5}\n"
     ]
    }
   ],
   "source": [
    "s3={2,3,5}\n",
    "s3.add(9)\n",
    "print(s3)"
   ]
  },
  {
   "cell_type": "code",
   "execution_count": null,
   "id": "eb614640-ea39-45cb-bf1b-658fa70753db",
   "metadata": {},
   "outputs": [],
   "source": [
    "# Deleting the elements from an sets\n",
    "- del\n",
    "-remove\n",
    "-pop\n"
   ]
  },
  {
   "cell_type": "code",
   "execution_count": 32,
   "id": "cff50928-d6be-44d0-b959-650287413702",
   "metadata": {},
   "outputs": [
    {
     "ename": "NameError",
     "evalue": "name 's3' is not defined",
     "output_type": "error",
     "traceback": [
      "\u001b[1;31m---------------------------------------------------------------------------\u001b[0m",
      "\u001b[1;31mNameError\u001b[0m                                 Traceback (most recent call last)",
      "Cell \u001b[1;32mIn[32], line 1\u001b[0m\n\u001b[1;32m----> 1\u001b[0m \u001b[38;5;28;01mdel\u001b[39;00m[s3]\n\u001b[0;32m      2\u001b[0m \u001b[38;5;28mprint\u001b[39m(s3)\n",
      "\u001b[1;31mNameError\u001b[0m: name 's3' is not defined"
     ]
    }
   ],
   "source": [
    "del[s3]\n",
    "print(s3)"
   ]
  },
  {
   "cell_type": "code",
   "execution_count": 33,
   "id": "d72a8607-1639-4901-86fc-35137f0ec949",
   "metadata": {},
   "outputs": [
    {
     "name": "stdout",
     "output_type": "stream",
     "text": [
      "{9, 2, 6, 7}\n",
      "{9, 2, 6}\n"
     ]
    }
   ],
   "source": [
    "# Remove it is use to remove the specified item or  value from the set\n",
    "s4={2,6,7,9}\n",
    "print(s4)\n",
    "s4.remove(7)\n",
    "print(s4)"
   ]
  },
  {
   "cell_type": "code",
   "execution_count": null,
   "id": "c61f4299-e9b9-4769-87c7-fb53b203a76a",
   "metadata": {},
   "outputs": [],
   "source": [
    "# pop => this is used to pop the last item from an sets "
   ]
  },
  {
   "cell_type": "markdown",
   "id": "cd81ceb8-158b-4ac0-abbb-cecbfa21bdef",
   "metadata": {},
   "source": [
    "# sets operation \n",
    "- there is no concatenation operation in the set although it is present in the list tuple\n",
    "- you cannot muntiply the sets"
   ]
  },
  {
   "cell_type": "code",
   "execution_count": null,
   "id": "2fe49866-913b-4872-be55-325ab3cf23ca",
   "metadata": {},
   "outputs": [],
   "source": [
    "s1={1,2,3,5,6,7}\n",
    "s2={5,6,7,9}\n"
   ]
  },
  {
   "cell_type": "code",
   "execution_count": 36,
   "id": "1fa4def8-74bd-4fa0-900d-863de2e6e486",
   "metadata": {},
   "outputs": [
    {
     "data": {
      "text/plain": [
       "{1, 2, 3, 4, 5, 6, 6.5, 'Hello'}"
      ]
     },
     "execution_count": 36,
     "metadata": {},
     "output_type": "execute_result"
    }
   ],
   "source": [
    "# union\n",
    "s1.union(s2)"
   ]
  },
  {
   "cell_type": "code",
   "execution_count": 37,
   "id": "de531de5-a200-4227-8006-ce0dfeba4f47",
   "metadata": {},
   "outputs": [
    {
     "data": {
      "text/plain": [
       "{1}"
      ]
     },
     "execution_count": 37,
     "metadata": {},
     "output_type": "execute_result"
    }
   ],
   "source": [
    "s1.intersection(s2)"
   ]
  },
  {
   "cell_type": "code",
   "execution_count": 38,
   "id": "07a2abd3-fbaa-42b4-a767-bcee50a983cf",
   "metadata": {},
   "outputs": [
    {
     "data": {
      "text/plain": [
       "{2, 4, 6}"
      ]
     },
     "execution_count": 38,
     "metadata": {},
     "output_type": "execute_result"
    }
   ],
   "source": [
    "s1.difference(s2)"
   ]
  },
  {
   "cell_type": "code",
   "execution_count": null,
   "id": "3382a94a-8508-4294-b2ab-e2afc9968e48",
   "metadata": {},
   "outputs": [],
   "source": [
    "s1."
   ]
  },
  {
   "cell_type": "code",
   "execution_count": null,
   "id": "f67fcf45-d17e-4bdc-b5ee-61c7dc9fc99c",
   "metadata": {},
   "outputs": [],
   "source": []
  },
  {
   "cell_type": "code",
   "execution_count": 34,
   "id": "c39fd931-ef6d-4927-8481-f95c5e1cb361",
   "metadata": {},
   "outputs": [
    {
     "name": "stdout",
     "output_type": "stream",
     "text": [
      "1\n",
      "2\n",
      "4\n",
      "6\n"
     ]
    }
   ],
   "source": [
    "# looping and membership opearator is working \n",
    "for i in s1:\n",
    "    print(i)\n",
    "    \n"
   ]
  },
  {
   "cell_type": "code",
   "execution_count": 35,
   "id": "03885f34-4362-4fff-8c47-f0919f9e9d4a",
   "metadata": {},
   "outputs": [
    {
     "data": {
      "text/plain": [
       "True"
      ]
     },
     "execution_count": 35,
     "metadata": {},
     "output_type": "execute_result"
    }
   ],
   "source": [
    "1 in s1  # memvership operator in the python"
   ]
  },
  {
   "cell_type": "markdown",
   "id": "5c4aaec2-a16b-4600-a299-36c4dbaf643d",
   "metadata": {},
   "source": [
    "# Function in the sets \n",
    "- len(varible_name)\n",
    "- min(variable_name)\n",
    "- max(variable_name)\n",
    "- sum(variable_name\n",
    "- sorted(variable_name)=> to convert the set into list \n"
   ]
  },
  {
   "cell_type": "markdown",
   "id": "eee51f37-5779-44e3-92dd-3c8f0552c5e1",
   "metadata": {},
   "source": [
    "# Dictionary in the python\n",
    "- dictionary is the special type of the datatype where key value is present \n",
    "-Rules in the dictionary\n",
    "1.dictionary has no indexing\n",
    "2. dictionary is mutable types\n",
    "3. keys ->immutable but values=> they can be mutable\n",
    "4. keys should be unique    "
   ]
  },
  {
   "cell_type": "code",
   "execution_count": null,
   "id": "25d603bf-5aa9-4c22-839b-6445480107c1",
   "metadata": {},
   "outputs": [],
   "source": [
    "NOte: Mutable=> List/sets/Dictionary\n",
    "Immutable=>Strings/tuples/Float/int/booleans /complex"
   ]
  },
  {
   "cell_type": "code",
   "execution_count": 39,
   "id": "958b5c49-49cc-4424-8b6b-53ffee166fb8",
   "metadata": {},
   "outputs": [
    {
     "name": "stdout",
     "output_type": "stream",
     "text": [
      "<class 'dict'>\n"
     ]
    }
   ],
   "source": [
    "# creating the empty dictionary \n",
    "d={}\n",
    "print(type(d))"
   ]
  },
  {
   "cell_type": "code",
   "execution_count": null,
   "id": "ab8d9172-eb1e-4655-b9a4-639a63c6f1ba",
   "metadata": {},
   "outputs": [],
   "source": [
    "# key value pair ma hunccha inside the curly bracis seperated by the comma "
   ]
  },
  {
   "cell_type": "code",
   "execution_count": 1,
   "id": "c90e9f05-f000-4bb8-8082-0d6625b238f8",
   "metadata": {},
   "outputs": [
    {
     "name": "stdout",
     "output_type": "stream",
     "text": [
      "{'Name': 'Abishek Mishra', 'Age': 19, 'Address': 'Kathmandu'}\n"
     ]
    }
   ],
   "source": [
    "Dic={'Name':'Abishek Mishra','Age':19,'Address':'Kathmandu'}\n",
    "print(Dic)"
   ]
  },
  {
   "cell_type": "code",
   "execution_count": 2,
   "id": "af4fc446-1942-492b-8f05-315a47cd453e",
   "metadata": {},
   "outputs": [
    {
     "name": "stdout",
     "output_type": "stream",
     "text": [
      "<class 'dict'>\n"
     ]
    }
   ],
   "source": [
    "print(type(Dic))"
   ]
  },
  {
   "cell_type": "code",
   "execution_count": 3,
   "id": "a480690a-20a9-4055-a596-96ad676a4bf5",
   "metadata": {},
   "outputs": [
    {
     "ename": "TypeError",
     "evalue": "unhashable type: 'list'",
     "output_type": "error",
     "traceback": [
      "\u001b[1;31m---------------------------------------------------------------------------\u001b[0m",
      "\u001b[1;31mTypeError\u001b[0m                                 Traceback (most recent call last)",
      "Cell \u001b[1;32mIn[3], line 1\u001b[0m\n\u001b[1;32m----> 1\u001b[0m D1\u001b[38;5;241m=\u001b[39m{[\u001b[38;5;241m1\u001b[39m,\u001b[38;5;241m2\u001b[39m,\u001b[38;5;241m3\u001b[39m]:\u001b[38;5;124m'\u001b[39m\u001b[38;5;124mAbishek\u001b[39m\u001b[38;5;124m'\u001b[39m}\n\u001b[0;32m      2\u001b[0m \u001b[38;5;28mprint\u001b[39m(D1)\n",
      "\u001b[1;31mTypeError\u001b[0m: unhashable type: 'list'"
     ]
    }
   ],
   "source": [
    "D1={[1,2,3]:'Abishek'} # this should be error because key is list and it is mutable \n",
    "print(D1)\n"
   ]
  },
  {
   "cell_type": "code",
   "execution_count": null,
   "id": "69af2b74-af0b-4c18-878d-85bb24045eac",
   "metadata": {},
   "outputs": [],
   "source": [
    "# If we use the tuple it would be correct insted of the list in the key part\n"
   ]
  },
  {
   "cell_type": "code",
   "execution_count": 4,
   "id": "f790e351-3586-42cf-ad6c-a0e0ffd73fdb",
   "metadata": {},
   "outputs": [
    {
     "name": "stdout",
     "output_type": "stream",
     "text": [
      "{(1, 2, 3): 'Abishek'}\n"
     ]
    }
   ],
   "source": [
    "D1={(1,2,3):'Abishek'} # it wont show the error cause key in this case is immutable\n",
    "print(D1)"
   ]
  },
  {
   "cell_type": "code",
   "execution_count": 5,
   "id": "8804413e-70d9-4b70-a599-4fd30843254b",
   "metadata": {},
   "outputs": [
    {
     "name": "stdout",
     "output_type": "stream",
     "text": [
      "{'Name': 'Rajan'}\n"
     ]
    }
   ],
   "source": [
    "D2={\"Name\":\"Abishek\",\"Name\":\"Rajan\"} # keys should be unique the output is rajan because in dictionary keys should be unique , if one key appears same as previous it think that it is the updated value so this happens \n",
    "print(D2)"
   ]
  },
  {
   "cell_type": "code",
   "execution_count": null,
   "id": "26e28ba1-9d83-41a6-a020-e831239f2872",
   "metadata": {},
   "outputs": [],
   "source": [
    "# we can create 2D dictionay too"
   ]
  },
  {
   "cell_type": "code",
   "execution_count": 10,
   "id": "fff0bcd2-94e3-43bc-a598-d8778b364709",
   "metadata": {},
   "outputs": [
    {
     "name": "stdout",
     "output_type": "stream",
     "text": [
      "Abishek\n"
     ]
    }
   ],
   "source": [
    "# Accessing items from a dictionary \n",
    "# same like list but we need the value of key to access that \n",
    "D2={\"Name\":\"Abishek\"}\n",
    "print(D2['Name'])"
   ]
  },
  {
   "cell_type": "code",
   "execution_count": 11,
   "id": "e0c89748-d63c-492c-95aa-7e637c87d754",
   "metadata": {},
   "outputs": [
    {
     "name": "stdout",
     "output_type": "stream",
     "text": [
      "{'Name': 'Abishek Mishra', 'Age': 19, 'Address': 'Kathmandu'}\n",
      "{'Name': 'Bibek', 'Age': 19, 'Address': 'Kathmandu'}\n"
     ]
    }
   ],
   "source": [
    "# How to Edit a dictionary \n",
    "Dic={'Name':'Abishek Mishra','Age':19,'Address':'Kathmandu'} # if i want to edit name at that case\n",
    "print(Dic)\n",
    "Dic['Name']='Bibek' # this is how it can be edited  \n",
    "print(Dic)"
   ]
  },
  {
   "cell_type": "code",
   "execution_count": 12,
   "id": "fb55a8f8-1b97-4fdc-82c4-7cdfc9b1556e",
   "metadata": {},
   "outputs": [
    {
     "name": "stdout",
     "output_type": "stream",
     "text": [
      "{'Name': 'Abishek Mishra', 'Age': 19, 'Address': 'Kathmandu'}\n",
      "{'Name': 'Abishek Mishra', 'Age': 19, 'Address': 'Kathmandu', 'College': 'Cosmos College'}\n"
     ]
    }
   ],
   "source": [
    "# Add a new key value pair \n",
    "Dic={'Name':'Abishek Mishra','Age':19,'Address':'Kathmandu'}\n",
    "print(Dic)\n",
    "Dic['College']='Cosmos College'\n",
    "print(Dic)"
   ]
  },
  {
   "cell_type": "code",
   "execution_count": 13,
   "id": "21dba165-9297-4771-baf7-2a8e5baeeaeb",
   "metadata": {},
   "outputs": [
    {
     "name": "stdout",
     "output_type": "stream",
     "text": [
      "{'Name': 'Abishek Mishra', 'Age': 19, 'Address': 'Kathmandu'}\n"
     ]
    }
   ],
   "source": [
    "# Deleting the values from the dictionary \n",
    "del Dic['College']\n",
    "print(Dic)"
   ]
  },
  {
   "cell_type": "code",
   "execution_count": 14,
   "id": "7064d1d8-9fb1-445e-8081-a4901060c866",
   "metadata": {},
   "outputs": [
    {
     "name": "stdout",
     "output_type": "stream",
     "text": [
      "Name\n",
      "Age\n",
      "Address\n"
     ]
    }
   ],
   "source": [
    "# when i  use loop in the dictionary i only get the keys not values\n",
    "for i in Dic:\n",
    "    print(i)"
   ]
  },
  {
   "cell_type": "code",
   "execution_count": 15,
   "id": "fdab88a5-73a0-46de-9348-f0ca18b020ac",
   "metadata": {},
   "outputs": [
    {
     "name": "stdout",
     "output_type": "stream",
     "text": [
      "Name Abishek Mishra\n",
      "Age 19\n",
      "Address Kathmandu\n"
     ]
    }
   ],
   "source": [
    "# if we want the values too in that case we can use this as \n",
    "for i in Dic:\n",
    "    print(i,Dic[i]) # see the result you will get values too\n",
    "    "
   ]
  },
  {
   "cell_type": "code",
   "execution_count": 17,
   "id": "0a20fc0a-ac32-4774-b88f-49bd985da233",
   "metadata": {},
   "outputs": [
    {
     "data": {
      "text/plain": [
       "False"
      ]
     },
     "execution_count": 17,
     "metadata": {},
     "output_type": "execute_result"
    }
   ],
   "source": [
    "# in dictionary Membership also works that is \n",
    "'Abishek' in Dic"
   ]
  },
  {
   "cell_type": "code",
   "execution_count": 18,
   "id": "5d897732-8b40-45e8-a704-0ccde6945678",
   "metadata": {},
   "outputs": [
    {
     "data": {
      "text/plain": [
       "3"
      ]
     },
     "execution_count": 18,
     "metadata": {},
     "output_type": "execute_result"
    }
   ],
   "source": [
    "len(Dic) # number of key value pair in the dictionary "
   ]
  },
  {
   "cell_type": "code",
   "execution_count": 19,
   "id": "ef055455-d8b7-400d-9e6a-c7c63cb8aacd",
   "metadata": {},
   "outputs": [
    {
     "data": {
      "text/plain": [
       "'Address'"
      ]
     },
     "execution_count": 19,
     "metadata": {},
     "output_type": "execute_result"
    }
   ],
   "source": [
    "min(Dic)"
   ]
  },
  {
   "cell_type": "code",
   "execution_count": 21,
   "id": "06189152-9a28-4548-b706-9718aca0d867",
   "metadata": {},
   "outputs": [
    {
     "data": {
      "text/plain": [
       "dict_keys(['Name', 'Age', 'Address'])"
      ]
     },
     "execution_count": 21,
     "metadata": {},
     "output_type": "execute_result"
    }
   ],
   "source": [
    "# to find the list of keys use \n",
    "Dic.keys()"
   ]
  },
  {
   "cell_type": "code",
   "execution_count": 23,
   "id": "3cc66fde-f9bb-4c93-bc3a-4755e5b19023",
   "metadata": {},
   "outputs": [
    {
     "data": {
      "text/plain": [
       "dict_values(['Abishek Mishra', 19, 'Kathmandu'])"
      ]
     },
     "execution_count": 23,
     "metadata": {},
     "output_type": "execute_result"
    }
   ],
   "source": [
    "Dic.values() # to find the values from the dictionary "
   ]
  },
  {
   "cell_type": "code",
   "execution_count": null,
   "id": "2dc92c79-af59-4ee4-b641-0cd0f6526b97",
   "metadata": {},
   "outputs": [],
   "source": []
  }
 ],
 "metadata": {
  "kernelspec": {
   "display_name": "Python (Mini Project)",
   "language": "python",
   "name": "venv"
  },
  "language_info": {
   "codemirror_mode": {
    "name": "ipython",
    "version": 3
   },
   "file_extension": ".py",
   "mimetype": "text/x-python",
   "name": "python",
   "nbconvert_exporter": "python",
   "pygments_lexer": "ipython3",
   "version": "3.8.20"
  }
 },
 "nbformat": 4,
 "nbformat_minor": 5
}
